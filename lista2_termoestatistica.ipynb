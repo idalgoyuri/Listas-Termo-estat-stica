{
  "cells": [
    {
      "cell_type": "code",
      "execution_count": null,
      "metadata": {
        "id": "KB-yHmaLSzyW"
      },
      "outputs": [],
      "source": [
        "import numpy as np\n",
        "import pandas as pd\n",
        "import matplotlib.pyplot as plt"
      ]
    },
    {
      "cell_type": "code",
      "execution_count": null,
      "metadata": {
        "colab": {
          "base_uri": "https://localhost:8080/"
        },
        "id": "yWC3ym6bcPIM",
        "outputId": "7b34f6f6-d4a8-4a3a-8b80-55fbf1d16a9a"
      },
      "outputs": [
        {
          "name": "stdout",
          "output_type": "stream",
          "text": [
            "[[10 18  3]]\n"
          ]
        }
      ],
      "source": [
        "#item a questão 3\n",
        "gen = np.random.default_rng(125)\n",
        "\n",
        "n_lances = 1\n",
        "n_dados = 3\n",
        "\n",
        "#Gerando jogada com os dados\n",
        "\n",
        "resultado_a = gen.integers(1, 20, size=(n_lances, n_dados), endpoint = True)\n",
        "print(resultado_a)"
      ]
    },
    {
      "cell_type": "markdown",
      "metadata": {},
      "source": [
        "Aqui está as formulas necessária para resolver o exercício.\n",
        "\n",
        "**1.** Média Populacional($\\mu$)\n",
        "\n",
        "$$\n",
        "\\mu = \\frac{\\sum_{i=1}^{N}x_{i}}{N}\n",
        "$$\n",
        "\n",
        "* $\\mu$ é a média populacional.\n",
        "* $x_{i}$ são os valores indivíduais da população.\n",
        "* $N$ é o tamanho total da população.\n"
      ]
    },
    {
      "cell_type": "markdown",
      "metadata": {},
      "source": [
        "### 2. **Variância Populacional ($\\sigma^{2}$)**\n",
        "\n",
        "A variância populacional mede a dispersão dos dados em relação à média. A fórmula é:\n",
        "\n",
        "$$\n",
        "\\sigma^2 = \\frac{\\sum_{i=1}^{N} (x_i - \\mu)^2}{N}\n",
        "$$\n",
        "\n",
        "Onde:\n",
        "- $ \\sigma^2 $ é a variância populacional.\n",
        "- $ \\mu $ é a média populacional.\n",
        "- $ x_i $ são os valores individuais da população.\n",
        "- $ N $ é o tamanho total da população.\n",
        "\n",
        "### Passo a passo:\n",
        "\n",
        "1. **Calcule a média (μ)** usando a primeira fórmula.\n",
        "2. **Subtraia a média de cada valor** da população para encontrar o desvio.\n",
        "3. **Eleve cada desvio ao quadrado**.\n",
        "4. **Calcule a média dos quadrados dos desvios** para obter a variância populacional.\n",
        "\n",
        "Se precisar de um exemplo ou de ajuda com cálculos específicos, posso te ajudar mais!"
      ]
    },
    {
      "cell_type": "markdown",
      "metadata": {},
      "source": [
        "Para calcular a **média das médias** e a **variância das variâncias**, precisamos de um conjunto de **amostras** ou **subconjuntos** de dados. O conceito aqui envolve calcular médias e variâncias para cada subconjunto, e em seguida, calcular as estatísticas dessas médias e variâncias.\n",
        "\n",
        "Aqui estão os passos:\n",
        "\n",
        "### 1. **Média das Médias**\n",
        "\n",
        "Suponha que você tem $ k $ subconjuntos de dados, e a média de cada subconjunto $i$ seja $ \\mu_i $ (ou seja, a média do $i$-ésimo subconjunto de dados).\n",
        "\n",
        "A **média das médias** é simplesmente a média aritmética dessas médias $ \\mu_1, \\mu_2, \\dots, \\mu_k $:\n",
        "\n",
        "$$\n",
        "\\mu_{\\text{medias}} = \\frac{\\sum_{i=1}^{k} \\mu_i}{k}\n",
        "$$\n",
        "\n",
        "Onde:\n",
        "- $ \\mu_i $ é a média do $ i $-ésimo subconjunto.\n",
        "- $ k $ é o número de subconjuntos.\n",
        "\n",
        "### 2. **Variância das Variâncias**\n",
        "\n",
        "Seja $ \\sigma_i^2 $ a variância do $ i $-ésimo subconjunto. A **variância das variâncias** é a variância desses valores $ \\sigma_1^2, \\sigma_2^2, \\dots, \\sigma_k^2 $.\n",
        "\n",
        "A fórmula para calcular a variância das variâncias é:\n",
        "\n",
        "$$\n",
        "\\sigma^2_{\\text{variâncias}} = \\frac{\\sum_{i=1}^{k} (\\sigma_i^2 - \\overline{\\sigma^2})^2}{k}\n",
        "$$\n",
        "\n",
        "Onde:\n",
        "- $ \\sigma_i^2 $ é a variância do $ i $-ésimo subconjunto.\n",
        "- $ \\overline{\\sigma^2} $ é a média das variâncias, calculada como:\n",
        "\n",
        "$$\n",
        "\\overline{\\sigma^2} = \\frac{\\sum_{i=1}^{k} \\sigma_i^2}{k}\n",
        "$$\n",
        "\n",
        "### Resumo dos Passos:\n",
        "\n",
        "1. Calcule a **média** para cada subconjunto.\n",
        "2. Encontre a **média das médias** usando a fórmula para média aritmética.\n",
        "3. Calcule a **variância** de cada subconjunto.\n",
        "4. Encontre a **média das variâncias**.\n",
        "5. Use essa média das variâncias para calcular a **variância das variâncias**.\n",
        "\n",
        "Se você tiver valores específicos ou um conjunto de dados, posso ajudar a aplicar as fórmulas nos cálculos."
      ]
    },
    {
      "cell_type": "code",
      "execution_count": null,
      "metadata": {
        "colab": {
          "base_uri": "https://localhost:8080/"
        },
        "id": "MkfedPpbdGDh",
        "outputId": "c6232e51-38db-46a2-f89f-22b743e612de"
      },
      "outputs": [
        {
          "name": "stdout",
          "output_type": "stream",
          "text": [
            "10.333333333333334 37.55555555555556\n"
          ]
        }
      ],
      "source": [
        "media , variancia = np.mean(resultado_a), np.var(resultado_a)\n",
        "print(media, variancia)"
      ]
    },
    {
      "cell_type": "code",
      "execution_count": null,
      "metadata": {
        "colab": {
          "base_uri": "https://localhost:8080/"
        },
        "id": "BskVR3R3dbX1",
        "outputId": "ee344849-5379-4794-8310-2501e80b42be"
      },
      "outputs": [
        {
          "name": "stdout",
          "output_type": "stream",
          "text": [
            "[[10 18  3]\n",
            " [10  7  8]\n",
            " [15  4 11]\n",
            " [ 3  5 16]\n",
            " [ 9 16 12]\n",
            " [18  6  7]\n",
            " [18  3  6]\n",
            " [13 15 15]\n",
            " [ 3  5 10]\n",
            " [16  8  6]]\n"
          ]
        }
      ],
      "source": [
        "#item b questão 3\n",
        "gen = np.random.default_rng(125)\n",
        "\n",
        "n_lances = 10\n",
        "n_dados = 3\n",
        "\n",
        "#Gerando jogada com os dados\n",
        "\n",
        "resultado_b = gen.integers(1, 20, size=(n_lances, n_dados), endpoint = True)\n",
        "print(resultado_b)\n"
      ]
    },
    {
      "cell_type": "code",
      "execution_count": null,
      "metadata": {
        "colab": {
          "base_uri": "https://localhost:8080/"
        },
        "id": "80XannvXdwLC",
        "outputId": "317a7993-2fca-413f-f739-c732e07bdbed"
      },
      "outputs": [
        {
          "name": "stdout",
          "output_type": "stream",
          "text": [
            "[10.33333333  8.33333333 10.          8.         12.33333333 10.33333333\n",
            "  9.         14.33333333  6.         10.        ]\n"
          ]
        }
      ],
      "source": [
        "media_lances_b = []\n",
        "\n",
        "for i in range(len(resultado_b)):\n",
        "  media_lances_b.append(np.mean(resultado_b[i]))\n",
        "\n",
        "media_lances_b = np.array(media_lances_b)\n",
        "print(media_lances_b)"
      ]
    },
    {
      "cell_type": "code",
      "execution_count": null,
      "metadata": {
        "colab": {
          "base_uri": "https://localhost:8080/"
        },
        "id": "-JyAuPkFfNnq",
        "outputId": "0a53aca3-eb0d-4f0e-d13c-c1dd082c1a96"
      },
      "outputs": [
        {
          "name": "stdout",
          "output_type": "stream",
          "text": [
            "9.866666666666667\n"
          ]
        }
      ],
      "source": [
        "media_das_media = np.mean(media_lances_b)\n",
        "print(media_das_media)"
      ]
    },
    {
      "cell_type": "code",
      "execution_count": null,
      "metadata": {
        "colab": {
          "base_uri": "https://localhost:8080/"
        },
        "id": "gaks_Zc5gEHm",
        "outputId": "7dac2ab7-56ac-4c19-8d0c-32b03d420a43"
      },
      "outputs": [
        {
          "name": "stdout",
          "output_type": "stream",
          "text": [
            "[37.55555556  1.55555556 20.66666667 32.66666667  8.22222222 29.55555556\n",
            " 42.          0.88888889  8.66666667 18.66666667]\n"
          ]
        }
      ],
      "source": [
        "variancia_lances_b = []\n",
        "\n",
        "for i in range(len(resultado_b)):\n",
        "  variancia_lances_b.append(np.var(resultado_b[i]))\n",
        "\n",
        "variancia_lances_b = np.array(variancia_lances_b)\n",
        "print(variancia_lances_b)"
      ]
    },
    {
      "cell_type": "code",
      "execution_count": null,
      "metadata": {
        "colab": {
          "base_uri": "https://localhost:8080/"
        },
        "id": "0gxHeEeZgXNf",
        "outputId": "b62634cb-9264-416b-d781-50fc1b181b64"
      },
      "outputs": [
        {
          "name": "stdout",
          "output_type": "stream",
          "text": [
            "201.87456790123457\n"
          ]
        }
      ],
      "source": [
        "variancia_da_variancias = np.var(variancia_lances_b)\n",
        "print(variancia_da_variancias)"
      ]
    },
    {
      "cell_type": "code",
      "execution_count": null,
      "metadata": {
        "colab": {
          "base_uri": "https://localhost:8080/"
        },
        "id": "2bXtZaEximQ6",
        "outputId": "94a17ab1-5526-4379-8a91-f635d2e38241"
      },
      "outputs": [
        {
          "name": "stdout",
          "output_type": "stream",
          "text": [
            "[10 10 15  3  9 18 18 13  3 16]   [18  7  4  5 16  6  3 15  5  8]   [ 3  8 11 16 12  7  6 15 10  6]   "
          ]
        }
      ],
      "source": [
        "coluna01 = resultado_b[:,0]\n",
        "coluna02 = resultado_b[:,1]\n",
        "coluna03 = resultado_b[:,2]\n",
        "\n",
        "print(coluna01, end = \"   \")\n",
        "print(coluna02, end = \"   \")\n",
        "print(coluna03, end = \"   \")"
      ]
    },
    {
      "cell_type": "code",
      "execution_count": null,
      "metadata": {
        "colab": {
          "base_uri": "https://localhost:8080/",
          "height": 363
        },
        "id": "ktrCso8Ag20U",
        "outputId": "62ea20e0-7518-4173-92e7-63b6d560409b"
      },
      "outputs": [
        {
          "data": {
            "application/vnd.google.colaboratory.intrinsic+json": {
              "summary": "{\n  \"name\": \"df\",\n  \"rows\": 10,\n  \"fields\": [\n    {\n      \"column\": \"lance 1\",\n      \"properties\": {\n        \"dtype\": \"number\",\n        \"std\": 5,\n        \"min\": 3,\n        \"max\": 18,\n        \"num_unique_values\": 7,\n        \"samples\": [\n          10,\n          15,\n          13\n        ],\n        \"semantic_type\": \"\",\n        \"description\": \"\"\n      }\n    },\n    {\n      \"column\": \"lance 2\",\n      \"properties\": {\n        \"dtype\": \"number\",\n        \"std\": 5,\n        \"min\": 3,\n        \"max\": 18,\n        \"num_unique_values\": 9,\n        \"samples\": [\n          15,\n          7,\n          6\n        ],\n        \"semantic_type\": \"\",\n        \"description\": \"\"\n      }\n    },\n    {\n      \"column\": \"lance 3\",\n      \"properties\": {\n        \"dtype\": \"number\",\n        \"std\": 4,\n        \"min\": 3,\n        \"max\": 16,\n        \"num_unique_values\": 9,\n        \"samples\": [\n          15,\n          8,\n          7\n        ],\n        \"semantic_type\": \"\",\n        \"description\": \"\"\n      }\n    },\n    {\n      \"column\": \"media\",\n      \"properties\": {\n        \"dtype\": \"number\",\n        \"std\": 2.3104699965457836,\n        \"min\": 6.0,\n        \"max\": 14.333333333333334,\n        \"num_unique_values\": 8,\n        \"samples\": [\n          8.333333333333334,\n          9.0,\n          10.333333333333334\n        ],\n        \"semantic_type\": \"\",\n        \"description\": \"\"\n      }\n    },\n    {\n      \"column\": \"variancia\",\n      \"properties\": {\n        \"dtype\": \"number\",\n        \"std\": 14.976817934588649,\n        \"min\": 0.888888888888889,\n        \"max\": 42.0,\n        \"num_unique_values\": 10,\n        \"samples\": [\n          8.666666666666666,\n          1.5555555555555556,\n          29.555555555555557\n        ],\n        \"semantic_type\": \"\",\n        \"description\": \"\"\n      }\n    }\n  ]\n}",
              "type": "dataframe",
              "variable_name": "df"
            },
            "text/html": [
              "\n",
              "  <div id=\"df-08b94cad-24e6-4269-9548-1b06f67b9075\" class=\"colab-df-container\">\n",
              "    <div>\n",
              "<style scoped>\n",
              "    .dataframe tbody tr th:only-of-type {\n",
              "        vertical-align: middle;\n",
              "    }\n",
              "\n",
              "    .dataframe tbody tr th {\n",
              "        vertical-align: top;\n",
              "    }\n",
              "\n",
              "    .dataframe thead th {\n",
              "        text-align: right;\n",
              "    }\n",
              "</style>\n",
              "<table border=\"1\" class=\"dataframe\">\n",
              "  <thead>\n",
              "    <tr style=\"text-align: right;\">\n",
              "      <th></th>\n",
              "      <th>lance 1</th>\n",
              "      <th>lance 2</th>\n",
              "      <th>lance 3</th>\n",
              "      <th>media</th>\n",
              "      <th>variancia</th>\n",
              "    </tr>\n",
              "  </thead>\n",
              "  <tbody>\n",
              "    <tr>\n",
              "      <th>jogo 1</th>\n",
              "      <td>10</td>\n",
              "      <td>18</td>\n",
              "      <td>3</td>\n",
              "      <td>10.333333</td>\n",
              "      <td>37.555556</td>\n",
              "    </tr>\n",
              "    <tr>\n",
              "      <th>jogo 2</th>\n",
              "      <td>10</td>\n",
              "      <td>7</td>\n",
              "      <td>8</td>\n",
              "      <td>8.333333</td>\n",
              "      <td>1.555556</td>\n",
              "    </tr>\n",
              "    <tr>\n",
              "      <th>jogo 3</th>\n",
              "      <td>15</td>\n",
              "      <td>4</td>\n",
              "      <td>11</td>\n",
              "      <td>10.000000</td>\n",
              "      <td>20.666667</td>\n",
              "    </tr>\n",
              "    <tr>\n",
              "      <th>jogo 4</th>\n",
              "      <td>3</td>\n",
              "      <td>5</td>\n",
              "      <td>16</td>\n",
              "      <td>8.000000</td>\n",
              "      <td>32.666667</td>\n",
              "    </tr>\n",
              "    <tr>\n",
              "      <th>jogo 5</th>\n",
              "      <td>9</td>\n",
              "      <td>16</td>\n",
              "      <td>12</td>\n",
              "      <td>12.333333</td>\n",
              "      <td>8.222222</td>\n",
              "    </tr>\n",
              "    <tr>\n",
              "      <th>jogo 6</th>\n",
              "      <td>18</td>\n",
              "      <td>6</td>\n",
              "      <td>7</td>\n",
              "      <td>10.333333</td>\n",
              "      <td>29.555556</td>\n",
              "    </tr>\n",
              "    <tr>\n",
              "      <th>jogo 7</th>\n",
              "      <td>18</td>\n",
              "      <td>3</td>\n",
              "      <td>6</td>\n",
              "      <td>9.000000</td>\n",
              "      <td>42.000000</td>\n",
              "    </tr>\n",
              "    <tr>\n",
              "      <th>jogo 8</th>\n",
              "      <td>13</td>\n",
              "      <td>15</td>\n",
              "      <td>15</td>\n",
              "      <td>14.333333</td>\n",
              "      <td>0.888889</td>\n",
              "    </tr>\n",
              "    <tr>\n",
              "      <th>jogo 9</th>\n",
              "      <td>3</td>\n",
              "      <td>5</td>\n",
              "      <td>10</td>\n",
              "      <td>6.000000</td>\n",
              "      <td>8.666667</td>\n",
              "    </tr>\n",
              "    <tr>\n",
              "      <th>jogo 10</th>\n",
              "      <td>16</td>\n",
              "      <td>8</td>\n",
              "      <td>6</td>\n",
              "      <td>10.000000</td>\n",
              "      <td>18.666667</td>\n",
              "    </tr>\n",
              "  </tbody>\n",
              "</table>\n",
              "</div>\n",
              "    <div class=\"colab-df-buttons\">\n",
              "\n",
              "  <div class=\"colab-df-container\">\n",
              "    <button class=\"colab-df-convert\" onclick=\"convertToInteractive('df-08b94cad-24e6-4269-9548-1b06f67b9075')\"\n",
              "            title=\"Convert this dataframe to an interactive table.\"\n",
              "            style=\"display:none;\">\n",
              "\n",
              "  <svg xmlns=\"http://www.w3.org/2000/svg\" height=\"24px\" viewBox=\"0 -960 960 960\">\n",
              "    <path d=\"M120-120v-720h720v720H120Zm60-500h600v-160H180v160Zm220 220h160v-160H400v160Zm0 220h160v-160H400v160ZM180-400h160v-160H180v160Zm440 0h160v-160H620v160ZM180-180h160v-160H180v160Zm440 0h160v-160H620v160Z\"/>\n",
              "  </svg>\n",
              "    </button>\n",
              "\n",
              "  <style>\n",
              "    .colab-df-container {\n",
              "      display:flex;\n",
              "      gap: 12px;\n",
              "    }\n",
              "\n",
              "    .colab-df-convert {\n",
              "      background-color: #E8F0FE;\n",
              "      border: none;\n",
              "      border-radius: 50%;\n",
              "      cursor: pointer;\n",
              "      display: none;\n",
              "      fill: #1967D2;\n",
              "      height: 32px;\n",
              "      padding: 0 0 0 0;\n",
              "      width: 32px;\n",
              "    }\n",
              "\n",
              "    .colab-df-convert:hover {\n",
              "      background-color: #E2EBFA;\n",
              "      box-shadow: 0px 1px 2px rgba(60, 64, 67, 0.3), 0px 1px 3px 1px rgba(60, 64, 67, 0.15);\n",
              "      fill: #174EA6;\n",
              "    }\n",
              "\n",
              "    .colab-df-buttons div {\n",
              "      margin-bottom: 4px;\n",
              "    }\n",
              "\n",
              "    [theme=dark] .colab-df-convert {\n",
              "      background-color: #3B4455;\n",
              "      fill: #D2E3FC;\n",
              "    }\n",
              "\n",
              "    [theme=dark] .colab-df-convert:hover {\n",
              "      background-color: #434B5C;\n",
              "      box-shadow: 0px 1px 3px 1px rgba(0, 0, 0, 0.15);\n",
              "      filter: drop-shadow(0px 1px 2px rgba(0, 0, 0, 0.3));\n",
              "      fill: #FFFFFF;\n",
              "    }\n",
              "  </style>\n",
              "\n",
              "    <script>\n",
              "      const buttonEl =\n",
              "        document.querySelector('#df-08b94cad-24e6-4269-9548-1b06f67b9075 button.colab-df-convert');\n",
              "      buttonEl.style.display =\n",
              "        google.colab.kernel.accessAllowed ? 'block' : 'none';\n",
              "\n",
              "      async function convertToInteractive(key) {\n",
              "        const element = document.querySelector('#df-08b94cad-24e6-4269-9548-1b06f67b9075');\n",
              "        const dataTable =\n",
              "          await google.colab.kernel.invokeFunction('convertToInteractive',\n",
              "                                                    [key], {});\n",
              "        if (!dataTable) return;\n",
              "\n",
              "        const docLinkHtml = 'Like what you see? Visit the ' +\n",
              "          '<a target=\"_blank\" href=https://colab.research.google.com/notebooks/data_table.ipynb>data table notebook</a>'\n",
              "          + ' to learn more about interactive tables.';\n",
              "        element.innerHTML = '';\n",
              "        dataTable['output_type'] = 'display_data';\n",
              "        await google.colab.output.renderOutput(dataTable, element);\n",
              "        const docLink = document.createElement('div');\n",
              "        docLink.innerHTML = docLinkHtml;\n",
              "        element.appendChild(docLink);\n",
              "      }\n",
              "    </script>\n",
              "  </div>\n",
              "\n",
              "\n",
              "<div id=\"df-b14a8425-ee05-498e-b073-9b9dbeaac03b\">\n",
              "  <button class=\"colab-df-quickchart\" onclick=\"quickchart('df-b14a8425-ee05-498e-b073-9b9dbeaac03b')\"\n",
              "            title=\"Suggest charts\"\n",
              "            style=\"display:none;\">\n",
              "\n",
              "<svg xmlns=\"http://www.w3.org/2000/svg\" height=\"24px\"viewBox=\"0 0 24 24\"\n",
              "     width=\"24px\">\n",
              "    <g>\n",
              "        <path d=\"M19 3H5c-1.1 0-2 .9-2 2v14c0 1.1.9 2 2 2h14c1.1 0 2-.9 2-2V5c0-1.1-.9-2-2-2zM9 17H7v-7h2v7zm4 0h-2V7h2v10zm4 0h-2v-4h2v4z\"/>\n",
              "    </g>\n",
              "</svg>\n",
              "  </button>\n",
              "\n",
              "<style>\n",
              "  .colab-df-quickchart {\n",
              "      --bg-color: #E8F0FE;\n",
              "      --fill-color: #1967D2;\n",
              "      --hover-bg-color: #E2EBFA;\n",
              "      --hover-fill-color: #174EA6;\n",
              "      --disabled-fill-color: #AAA;\n",
              "      --disabled-bg-color: #DDD;\n",
              "  }\n",
              "\n",
              "  [theme=dark] .colab-df-quickchart {\n",
              "      --bg-color: #3B4455;\n",
              "      --fill-color: #D2E3FC;\n",
              "      --hover-bg-color: #434B5C;\n",
              "      --hover-fill-color: #FFFFFF;\n",
              "      --disabled-bg-color: #3B4455;\n",
              "      --disabled-fill-color: #666;\n",
              "  }\n",
              "\n",
              "  .colab-df-quickchart {\n",
              "    background-color: var(--bg-color);\n",
              "    border: none;\n",
              "    border-radius: 50%;\n",
              "    cursor: pointer;\n",
              "    display: none;\n",
              "    fill: var(--fill-color);\n",
              "    height: 32px;\n",
              "    padding: 0;\n",
              "    width: 32px;\n",
              "  }\n",
              "\n",
              "  .colab-df-quickchart:hover {\n",
              "    background-color: var(--hover-bg-color);\n",
              "    box-shadow: 0 1px 2px rgba(60, 64, 67, 0.3), 0 1px 3px 1px rgba(60, 64, 67, 0.15);\n",
              "    fill: var(--button-hover-fill-color);\n",
              "  }\n",
              "\n",
              "  .colab-df-quickchart-complete:disabled,\n",
              "  .colab-df-quickchart-complete:disabled:hover {\n",
              "    background-color: var(--disabled-bg-color);\n",
              "    fill: var(--disabled-fill-color);\n",
              "    box-shadow: none;\n",
              "  }\n",
              "\n",
              "  .colab-df-spinner {\n",
              "    border: 2px solid var(--fill-color);\n",
              "    border-color: transparent;\n",
              "    border-bottom-color: var(--fill-color);\n",
              "    animation:\n",
              "      spin 1s steps(1) infinite;\n",
              "  }\n",
              "\n",
              "  @keyframes spin {\n",
              "    0% {\n",
              "      border-color: transparent;\n",
              "      border-bottom-color: var(--fill-color);\n",
              "      border-left-color: var(--fill-color);\n",
              "    }\n",
              "    20% {\n",
              "      border-color: transparent;\n",
              "      border-left-color: var(--fill-color);\n",
              "      border-top-color: var(--fill-color);\n",
              "    }\n",
              "    30% {\n",
              "      border-color: transparent;\n",
              "      border-left-color: var(--fill-color);\n",
              "      border-top-color: var(--fill-color);\n",
              "      border-right-color: var(--fill-color);\n",
              "    }\n",
              "    40% {\n",
              "      border-color: transparent;\n",
              "      border-right-color: var(--fill-color);\n",
              "      border-top-color: var(--fill-color);\n",
              "    }\n",
              "    60% {\n",
              "      border-color: transparent;\n",
              "      border-right-color: var(--fill-color);\n",
              "    }\n",
              "    80% {\n",
              "      border-color: transparent;\n",
              "      border-right-color: var(--fill-color);\n",
              "      border-bottom-color: var(--fill-color);\n",
              "    }\n",
              "    90% {\n",
              "      border-color: transparent;\n",
              "      border-bottom-color: var(--fill-color);\n",
              "    }\n",
              "  }\n",
              "</style>\n",
              "\n",
              "  <script>\n",
              "    async function quickchart(key) {\n",
              "      const quickchartButtonEl =\n",
              "        document.querySelector('#' + key + ' button');\n",
              "      quickchartButtonEl.disabled = true;  // To prevent multiple clicks.\n",
              "      quickchartButtonEl.classList.add('colab-df-spinner');\n",
              "      try {\n",
              "        const charts = await google.colab.kernel.invokeFunction(\n",
              "            'suggestCharts', [key], {});\n",
              "      } catch (error) {\n",
              "        console.error('Error during call to suggestCharts:', error);\n",
              "      }\n",
              "      quickchartButtonEl.classList.remove('colab-df-spinner');\n",
              "      quickchartButtonEl.classList.add('colab-df-quickchart-complete');\n",
              "    }\n",
              "    (() => {\n",
              "      let quickchartButtonEl =\n",
              "        document.querySelector('#df-b14a8425-ee05-498e-b073-9b9dbeaac03b button');\n",
              "      quickchartButtonEl.style.display =\n",
              "        google.colab.kernel.accessAllowed ? 'block' : 'none';\n",
              "    })();\n",
              "  </script>\n",
              "</div>\n",
              "\n",
              "  <div id=\"id_89c20908-ae63-4073-bc45-95d53d72c6b9\">\n",
              "    <style>\n",
              "      .colab-df-generate {\n",
              "        background-color: #E8F0FE;\n",
              "        border: none;\n",
              "        border-radius: 50%;\n",
              "        cursor: pointer;\n",
              "        display: none;\n",
              "        fill: #1967D2;\n",
              "        height: 32px;\n",
              "        padding: 0 0 0 0;\n",
              "        width: 32px;\n",
              "      }\n",
              "\n",
              "      .colab-df-generate:hover {\n",
              "        background-color: #E2EBFA;\n",
              "        box-shadow: 0px 1px 2px rgba(60, 64, 67, 0.3), 0px 1px 3px 1px rgba(60, 64, 67, 0.15);\n",
              "        fill: #174EA6;\n",
              "      }\n",
              "\n",
              "      [theme=dark] .colab-df-generate {\n",
              "        background-color: #3B4455;\n",
              "        fill: #D2E3FC;\n",
              "      }\n",
              "\n",
              "      [theme=dark] .colab-df-generate:hover {\n",
              "        background-color: #434B5C;\n",
              "        box-shadow: 0px 1px 3px 1px rgba(0, 0, 0, 0.15);\n",
              "        filter: drop-shadow(0px 1px 2px rgba(0, 0, 0, 0.3));\n",
              "        fill: #FFFFFF;\n",
              "      }\n",
              "    </style>\n",
              "    <button class=\"colab-df-generate\" onclick=\"generateWithVariable('df')\"\n",
              "            title=\"Generate code using this dataframe.\"\n",
              "            style=\"display:none;\">\n",
              "\n",
              "  <svg xmlns=\"http://www.w3.org/2000/svg\" height=\"24px\"viewBox=\"0 0 24 24\"\n",
              "       width=\"24px\">\n",
              "    <path d=\"M7,19H8.4L18.45,9,17,7.55,7,17.6ZM5,21V16.75L18.45,3.32a2,2,0,0,1,2.83,0l1.4,1.43a1.91,1.91,0,0,1,.58,1.4,1.91,1.91,0,0,1-.58,1.4L9.25,21ZM18.45,9,17,7.55Zm-12,3A5.31,5.31,0,0,0,4.9,8.1,5.31,5.31,0,0,0,1,6.5,5.31,5.31,0,0,0,4.9,4.9,5.31,5.31,0,0,0,6.5,1,5.31,5.31,0,0,0,8.1,4.9,5.31,5.31,0,0,0,12,6.5,5.46,5.46,0,0,0,6.5,12Z\"/>\n",
              "  </svg>\n",
              "    </button>\n",
              "    <script>\n",
              "      (() => {\n",
              "      const buttonEl =\n",
              "        document.querySelector('#id_89c20908-ae63-4073-bc45-95d53d72c6b9 button.colab-df-generate');\n",
              "      buttonEl.style.display =\n",
              "        google.colab.kernel.accessAllowed ? 'block' : 'none';\n",
              "\n",
              "      buttonEl.onclick = () => {\n",
              "        google.colab.notebook.generateWithVariable('df');\n",
              "      }\n",
              "      })();\n",
              "    </script>\n",
              "  </div>\n",
              "\n",
              "    </div>\n",
              "  </div>\n"
            ],
            "text/plain": [
              "         lance 1  lance 2  lance 3      media  variancia\n",
              "jogo 1        10       18        3  10.333333  37.555556\n",
              "jogo 2        10        7        8   8.333333   1.555556\n",
              "jogo 3        15        4       11  10.000000  20.666667\n",
              "jogo 4         3        5       16   8.000000  32.666667\n",
              "jogo 5         9       16       12  12.333333   8.222222\n",
              "jogo 6        18        6        7  10.333333  29.555556\n",
              "jogo 7        18        3        6   9.000000  42.000000\n",
              "jogo 8        13       15       15  14.333333   0.888889\n",
              "jogo 9         3        5       10   6.000000   8.666667\n",
              "jogo 10       16        8        6  10.000000  18.666667"
            ]
          },
          "execution_count": 10,
          "metadata": {},
          "output_type": "execute_result"
        }
      ],
      "source": [
        "novos_indices = []\n",
        "\n",
        "for i in range(len(resultado_b)):\n",
        "  novos_indices.append(f\"jogo {i+1}\")\n",
        "\n",
        "data = {\n",
        "\n",
        "        \"lance 1\": coluna01,\n",
        "        \"lance 2\": coluna02,\n",
        "        \"lance 3\": coluna03,\n",
        "        \"media\": media_lances_b,\n",
        "        \"variancia\": variancia_lances_b\n",
        "}\n",
        "\n",
        "df = pd.DataFrame(data)\n",
        "df.index = novos_indices\n",
        "df"
      ]
    },
    {
      "cell_type": "code",
      "execution_count": null,
      "metadata": {
        "colab": {
          "base_uri": "https://localhost:8080/",
          "height": 268
        },
        "id": "726dyDp-mctn",
        "outputId": "adea9608-3a7f-493c-a9b4-b14bb78c005a"
      },
      "outputs": [
        {
          "data": {
            "image/png": "[encoded data removed]",
            "text/plain": [
              "<Figure size 600x300 with 1 Axes>"
            ]
          },
          "metadata": {},
          "output_type": "display_data"
        }
      ],
      "source": [
        "# Criando uma figura e o eixo onde a tabela será colocada\n",
        "fig, ax = plt.subplots(figsize=(6, 3))  # Ajuste o tamanho da figura (6x3 é um exemplo)\n",
        "ax.axis('tight')\n",
        "ax.axis('off')\n",
        "\n",
        "# Criando a tabela no eixo\n",
        "tabela = ax.table(cellText=df.values, colLabels=df.columns, cellLoc='center', loc='center')\n",
        "\n",
        "# Salvando a tabela como uma imagem\n",
        "plt.savefig('tabela_pandas.png', dpi=300, bbox_inches='tight')\n",
        "\n",
        "# Mostrando a figura (opcional)\n",
        "plt.show()\n"
      ]
    }
  ],
  "metadata": {
    "colab": {
      "provenance": []
    },
    "kernelspec": {
      "display_name": "Python 3",
      "name": "python3"
    },
    "language_info": {
      "name": "python"
    }
  },
  "nbformat": 4,
  "nbformat_minor": 0
}
